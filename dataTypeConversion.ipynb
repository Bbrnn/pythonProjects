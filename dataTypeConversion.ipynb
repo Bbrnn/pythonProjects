{
 "cells": [
  {
   "cell_type": "raw",
   "id": "3c68fb81",
   "metadata": {},
   "source": [
    "In python there are different types of data\n",
    "Primitive\n",
    "Non-primitive"
   ]
  },
  {
   "cell_type": "raw",
   "id": "a1b6b523",
   "metadata": {},
   "source": [
    "Primitve data types include:\n",
    ".Integer\n",
    ".Boolean\n",
    ".String\n",
    ".Float\n",
    "\n",
    "Non primitve data types include:\n",
    ".Tuple\n",
    ".Lists\n",
    ".Sets\n",
    ".Dictionaries"
   ]
  },
  {
   "cell_type": "markdown",
   "id": "43703954",
   "metadata": {},
   "source": [
    "# Data type conversion"
   ]
  },
  {
   "cell_type": "raw",
   "id": "9865c5a3",
   "metadata": {},
   "source": [
    "Each data type can be converted into another different data type\n",
    "Explicit data type conversion-conversion is done manually\n",
    "Implicit data type conversion-conversion- is done automatically"
   ]
  },
  {
   "cell_type": "markdown",
   "id": "9c7e959e",
   "metadata": {},
   "source": [
    "# Implicit data type conversion"
   ]
  },
  {
   "cell_type": "code",
   "execution_count": 3,
   "id": "673414d7",
   "metadata": {},
   "outputs": [
    {
     "name": "stdout",
     "output_type": "stream",
     "text": [
      "4.5\n",
      "<class 'float'>\n"
     ]
    }
   ],
   "source": [
    "a=2\n",
    "b=2.5\n",
    "c=a+b    #an implicit conversion of a to float dat type is performed\n",
    "#conversion of b to integer is not done since the compiler will need to remove the fractional part leading to loss of information\n",
    "print(c)\n",
    "print(type (c))#the type function checks the data type of the stated variable"
   ]
  },
  {
   "cell_type": "markdown",
   "id": "f70aed55",
   "metadata": {},
   "source": [
    "# Explicit data type  conversion"
   ]
  },
  {
   "cell_type": "code",
   "execution_count": 4,
   "id": "94cecec8",
   "metadata": {},
   "outputs": [
    {
     "name": "stdout",
     "output_type": "stream",
     "text": [
      "24.0\n"
     ]
    }
   ],
   "source": [
    "#it is also known as type casting\n",
    "a=6\n",
    "b=18\n",
    "c=a+b\n",
    "print(float(c))#Specified the data type to convert to as float"
   ]
  },
  {
   "cell_type": "code",
   "execution_count": 5,
   "id": "958d65ef",
   "metadata": {},
   "outputs": [
    {
     "name": "stdout",
     "output_type": "stream",
     "text": [
      "14\n"
     ]
    }
   ],
   "source": [
    "#integer type conversion\n",
    "a=4.67\n",
    "b=9.42\n",
    "c=a+b\n",
    "print(int(c))#specified the data type to convert to as integer"
   ]
  },
  {
   "cell_type": "code",
   "execution_count": 7,
   "id": "205ad434",
   "metadata": {},
   "outputs": [
    {
     "name": "stdout",
     "output_type": "stream",
     "text": [
      "(4+3j)\n"
     ]
    }
   ],
   "source": [
    "#real to complex conversion\n",
    "a=4\n",
    "b=3\n",
    "print(complex(a,b))#specified the data type to convert to as complex"
   ]
  },
  {
   "cell_type": "code",
   "execution_count": 11,
   "id": "374853d8",
   "metadata": {},
   "outputs": [
    {
     "name": "stdout",
     "output_type": "stream",
     "text": [
      "The total price is 550 shillings\n"
     ]
    }
   ],
   "source": [
    "#string data type conversion fro integer\n",
    "bag_price = 200\n",
    "sandal_price =350\n",
    "total_price = bag_price+sandal_price\n",
    "print(\"The total price is \"+ str(total_price)+\" shillings\")"
   ]
  },
  {
   "cell_type": "code",
   "execution_count": 16,
   "id": "36829f01",
   "metadata": {},
   "outputs": [
    {
     "name": "stdout",
     "output_type": "stream",
     "text": [
      "The total price is:200350\n",
      "The total price is 550 shillings\n"
     ]
    }
   ],
   "source": [
    "#string conversion to integer\n",
    "bag_price = '200'\n",
    "sandal_price = '350'\n",
    "\n",
    "#String concatenation\n",
    "total_price =bag_price + sandal_price\n",
    "print(\"The total price is:\" + total_price)\n",
    "\n",
    "#Explicit data type conversion\n",
    "total_price =int(bag_price) + int(sandal_price)\n",
    "print(\"The total price is \"+ str(total_price) +\" shillings\")"
   ]
  },
  {
   "cell_type": "markdown",
   "id": "14d0bd0b",
   "metadata": {},
   "source": [
    "# Non primitive data conversion"
   ]
  },
  {
   "cell_type": "raw",
   "id": "aa43760e",
   "metadata": {},
   "source": [
    "list and tuples are used to store  a collection of homogenous items\n",
    "Tuples are immutable unlike lists-they cannot be delted,edited or added"
   ]
  },
  {
   "cell_type": "code",
   "execution_count": 17,
   "id": "aa139cf7",
   "metadata": {},
   "outputs": [
    {
     "name": "stdout",
     "output_type": "stream",
     "text": [
      "(1, 4, 0, 4, 3, 2)\n",
      "[('j', 3), ('i', 9), ('h', 6)]\n"
     ]
    }
   ],
   "source": [
    "a_tuple=('j',3),('i',9),('h',6)\n",
    "b_list=[1,4,0,4,3,2]\n",
    "\n",
    "print(tuple(b_list))\n",
    "print(list(a_tuple))"
   ]
  },
  {
   "cell_type": "code",
   "execution_count": 18,
   "id": "6a37c1f6",
   "metadata": {},
   "outputs": [
    {
     "name": "stdout",
     "output_type": "stream",
     "text": [
      "Bowler\n",
      "('B', 'o', 'w', 'l', 'e', 'r')\n",
      "['B', 'o', 'w', 'l', 'e', 'r', 'rrr']\n"
     ]
    }
   ],
   "source": [
    "#Converting strings to list or tuple\n",
    "text=\"Bowler\"\n",
    "print(text)\n",
    "\n",
    "#Converting the string to a tuple\n",
    "print(tuple(text))\n",
    "#converting text to alist and adding an element\n",
    "#this shows that lists are mutable\n",
    "text_list = list(text)\n",
    "text_list.append('r')\n",
    "print(text_list)"
   ]
  },
  {
   "cell_type": "code",
   "execution_count": 22,
   "id": "840c9ed2",
   "metadata": {},
   "outputs": [
    {
     "name": "stdout",
     "output_type": "stream",
     "text": [
      "(('k', 3), ('q', 4), ('g', 1))\n",
      "{'k': 3, 'q': 4, 'g': 1}\n",
      "{('q', 4), ('g', 1), ('k', 3)}\n"
     ]
    }
   ],
   "source": [
    "#converting the tuple to dictionaries and set\n",
    "a_tuple=('k',3),('q',4),('g',1)\n",
    "print(a_tuple)\n",
    "\n",
    " #dictionary\n",
    "print(dict(a_tuple))\n",
    "\n",
    "#set\n",
    "print(set(a_tuple))"
   ]
  },
  {
   "cell_type": "markdown",
   "id": "1ac07ce1",
   "metadata": {},
   "source": [
    "# Unicode, Binary, Octal, and Hexadecimal Integers in Python"
   ]
  },
  {
   "cell_type": "raw",
   "id": "2505f7f0",
   "metadata": {},
   "source": [
    "The number systems refer to the number of symbols or characters used to represent any numerical value"
   ]
  },
  {
   "cell_type": "code",
   "execution_count": null,
   "id": "116bb23f",
   "metadata": {},
   "outputs": [],
   "source": [
    "#Converting from binary to decimal number system\n",
    "#Binary are represented with base 2"
   ]
  },
  {
   "cell_type": "code",
   "execution_count": 23,
   "id": "06fa0111",
   "metadata": {},
   "outputs": [
    {
     "name": "stdout",
     "output_type": "stream",
     "text": [
      "0b10100\n",
      "20\n"
     ]
    }
   ],
   "source": [
    "a=20\n",
    "\n",
    "#its binary\n",
    "a_binary =bin(a)\n",
    "print(a_binary)\n",
    "\n",
    "#binary to decimal\n",
    "a=(int(a_binary,2))\n",
    "print(a)"
   ]
  },
  {
   "cell_type": "code",
   "execution_count": null,
   "id": "7fa3172e",
   "metadata": {},
   "outputs": [],
   "source": [
    "#Converting from octal to decimal\n",
    "#Octal are represented with base 8"
   ]
  },
  {
   "cell_type": "code",
   "execution_count": 24,
   "id": "1210954f",
   "metadata": {},
   "outputs": [
    {
     "name": "stdout",
     "output_type": "stream",
     "text": [
      "0o55\n",
      "45\n"
     ]
    }
   ],
   "source": [
    "a=45\n",
    "\n",
    "#Octal\n",
    "a_octal=oct(a)\n",
    "print(a_octal)\n",
    "\n",
    "#decimal\n",
    "a=(int(a_octal,8))\n",
    "print(a)"
   ]
  },
  {
   "cell_type": "code",
   "execution_count": null,
   "id": "d5f0d2bd",
   "metadata": {},
   "outputs": [],
   "source": [
    "#Converting from decimal to hexadecimal\n",
    "#Hexadecimal represents in base 16"
   ]
  },
  {
   "cell_type": "code",
   "execution_count": 25,
   "id": "d9be1107",
   "metadata": {},
   "outputs": [
    {
     "name": "stdout",
     "output_type": "stream",
     "text": [
      "0x22\n",
      "34\n"
     ]
    }
   ],
   "source": [
    "a =34\n",
    "\n",
    "#hexadecimal\n",
    "a_hex =hex(a)\n",
    "print(a_hex)\n",
    "\n",
    "#decimal\n",
    "a=(int(a_hex,16))\n",
    "print(a)"
   ]
  },
  {
   "cell_type": "code",
   "execution_count": null,
   "id": "16e308e0",
   "metadata": {},
   "outputs": [],
   "source": [
    "#Convert unicode to character\n",
    "#Python chr() converts unicode integers to string\n",
    "#Unicode is a universally accepted character coding for displaying the written texts of the diverse languages"
   ]
  },
  {
   "cell_type": "code",
   "execution_count": 27,
   "id": "940246d7",
   "metadata": {},
   "outputs": [
    {
     "ename": "TypeError",
     "evalue": "ord() expected string of length 1, but int found",
     "output_type": "error",
     "traceback": [
      "\u001b[1;31m---------------------------------------------------------------------------\u001b[0m",
      "\u001b[1;31mTypeError\u001b[0m                                 Traceback (most recent call last)",
      "\u001b[1;32m~\\AppData\\Local\\Temp/ipykernel_4920/2575824427.py\u001b[0m in \u001b[0;36m<module>\u001b[1;34m\u001b[0m\n\u001b[0;32m      1\u001b[0m \u001b[1;31m#DATACAMP is being printed\u001b[0m\u001b[1;33m\u001b[0m\u001b[1;33m\u001b[0m\u001b[0m\n\u001b[0;32m      2\u001b[0m print(\n\u001b[1;32m----> 3\u001b[1;33m     \u001b[0mord\u001b[0m\u001b[1;33m(\u001b[0m\u001b[1;36m68\u001b[0m\u001b[1;33m)\u001b[0m\u001b[1;33m,\u001b[0m\u001b[1;33m\u001b[0m\u001b[1;33m\u001b[0m\u001b[0m\n\u001b[0m\u001b[0;32m      4\u001b[0m     \u001b[0mchr\u001b[0m\u001b[1;33m(\u001b[0m\u001b[1;36m65\u001b[0m\u001b[1;33m)\u001b[0m\u001b[1;33m,\u001b[0m\u001b[1;33m\u001b[0m\u001b[1;33m\u001b[0m\u001b[0m\n\u001b[0;32m      5\u001b[0m     \u001b[0mchr\u001b[0m\u001b[1;33m(\u001b[0m\u001b[1;36m84\u001b[0m\u001b[1;33m)\u001b[0m\u001b[1;33m,\u001b[0m\u001b[1;33m\u001b[0m\u001b[1;33m\u001b[0m\u001b[0m\n",
      "\u001b[1;31mTypeError\u001b[0m: ord() expected string of length 1, but int found"
     ]
    }
   ],
   "source": [
    "#DATACAMP is being printed\n",
    "print(\n",
    "    chr(68),\n",
    "    chr(65),\n",
    "    chr(84),\n",
    "    chr(65),\n",
    "    chr(67),\n",
    "    chr(65),\n",
    "    chr(77),\n",
    "    chr(80),\n",
    ")"
   ]
  },
  {
   "cell_type": "code",
   "execution_count": null,
   "id": "52f74454",
   "metadata": {},
   "outputs": [],
   "source": []
  }
 ],
 "metadata": {
  "kernelspec": {
   "display_name": "Python 3 (ipykernel)",
   "language": "python",
   "name": "python3"
  },
  "language_info": {
   "codemirror_mode": {
    "name": "ipython",
    "version": 3
   },
   "file_extension": ".py",
   "mimetype": "text/x-python",
   "name": "python",
   "nbconvert_exporter": "python",
   "pygments_lexer": "ipython3",
   "version": "3.9.7"
  }
 },
 "nbformat": 4,
 "nbformat_minor": 5
}
